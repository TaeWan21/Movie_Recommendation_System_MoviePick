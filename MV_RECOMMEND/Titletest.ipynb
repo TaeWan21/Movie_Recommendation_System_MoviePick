{
 "cells": [
  {
   "cell_type": "code",
   "execution_count": 2,
   "metadata": {},
   "outputs": [
    {
     "data": {
      "text/plain": [
       "<18097x45692 sparse matrix of type '<class 'numpy.float64'>'\n",
       "\twith 925686 stored elements in Compressed Sparse Row format>"
      ]
     },
     "execution_count": 2,
     "metadata": {},
     "output_type": "execute_result"
    }
   ],
   "source": [
    "from sklearn.feature_extraction.text import TfidfVectorizer\n",
    "from sklearn.metrics.pairwise import linear_kernel\n",
    "import pandas as pd\n",
    "import numpy as np\n",
    "import sqlite3\n",
    "# DB 불러오기\n",
    "connection = sqlite3.connect(\"/Users/kimtaewan/Desktop/SIG 개인폴더/MV_RECOMMEND/data.db\")\n",
    "\n",
    "# 테이블 읽기\n",
    "data = pd.read_sql(\"SELECT * FROM data;\", connection)\n",
    "\n",
    "data\n",
    "    \n",
    "tfidf = TfidfVectorizer()\n",
    "tfidf_matrix = tfidf.fit_transform(data.storyWord)\n",
    "\n",
    "cosine_sim = linear_kernel(tfidf_matrix, tfidf_matrix)\n",
    "\n",
    "tfidf_matrix"
   ]
  },
  {
   "cell_type": "code",
   "execution_count": 3,
   "metadata": {},
   "outputs": [
    {
     "data": {
      "text/plain": [
       "title\n",
       "트랜스포머: 비스트의 서막        0\n",
       "신해혁명                  1\n",
       "귀공자                   2\n",
       "롱 듀얼: 최후의 결투          3\n",
       "안티 레이싱                4\n",
       "                  ...  \n",
       "거미줄               18092\n",
       "반지제왕:유령무사         18093\n",
       "파이어하트             18094\n",
       "에어 포스: 라스트 워      18095\n",
       "쿠툴룬: 전쟁의 여신       18096\n",
       "Length: 18097, dtype: int64"
      ]
     },
     "execution_count": 3,
     "metadata": {},
     "output_type": "execute_result"
    }
   ],
   "source": [
    "\"\"\"인덱스 테이블 만들기\"\"\"\n",
    "indices = pd.Series(data.index, index = data.title).drop_duplicates()\n",
    "indices"
   ]
  },
  {
   "cell_type": "code",
   "execution_count": 4,
   "metadata": {},
   "outputs": [],
   "source": [
    "\"\"\"추천 해주기\"\"\"\n",
    "def movie_REC(title, cosine_sim=cosine_sim):\n",
    "    \n",
    "    #입력한 영화로 부터 인덱스 가져오기\n",
    "    idx = indices[title]\n",
    "\n",
    "    # 모든 영화에 대해서 해당 영화와의 유사도를 구하기\n",
    "    sim_scores = list(enumerate(cosine_sim[idx]))\n",
    "\n",
    "    # 유사도에 따라 영화들을 정렬\n",
    "    sim_scores = sorted(sim_scores, key=lambda x:x[1], reverse = True)\n",
    "\n",
    "    # 가장 유사한 10개의 영화를 받아옴\n",
    "    sim_scores = sim_scores[1:6]\n",
    "\n",
    "    # 가장 유사한 10개 영화의 인덱스 받아옴\n",
    "    movie_indices = [i[0] for i in sim_scores]\n",
    "    \n",
    "    #기존에 읽어들인 데이터에서 해당 인덱스의 값들을 가져온다. 그리고 스코어 열을 추가하여 코사인 유사도도 확인할 수 있게 한다.\n",
    "    result_df = data.iloc[movie_indices].copy()\n",
    "    result_df['score'] = [i[1] for i in sim_scores]\n",
    "    \n",
    "    # 읽어들인 데이터에서 출력 필요없는 부분 제거 \n",
    "    del result_df['story']\n",
    "    del result_df['storyWord']\n",
    "    del result_df['poster']\n",
    "    del result_df['actor']\n",
    "    del result_df['directer']\n",
    "    del result_df['time']\n",
    "    del result_df['limit_age']\n",
    "    del result_df['id']\n",
    "    del result_df['theme']\n",
    "\n",
    "    # 가장 유사한 10개의 영화의 제목을 리턴\n",
    "    return result_df"
   ]
  },
  {
   "cell_type": "markdown",
   "metadata": {},
   "source": []
  },
  {
   "cell_type": "code",
   "execution_count": 5,
   "metadata": {},
   "outputs": [
    {
     "data": {
      "text/html": [
       "<div>\n",
       "<style scoped>\n",
       "    .dataframe tbody tr th:only-of-type {\n",
       "        vertical-align: middle;\n",
       "    }\n",
       "\n",
       "    .dataframe tbody tr th {\n",
       "        vertical-align: top;\n",
       "    }\n",
       "\n",
       "    .dataframe thead th {\n",
       "        text-align: right;\n",
       "    }\n",
       "</style>\n",
       "<table border=\"1\" class=\"dataframe\">\n",
       "  <thead>\n",
       "    <tr style=\"text-align: right;\">\n",
       "      <th></th>\n",
       "      <th>title</th>\n",
       "      <th>score</th>\n",
       "      <th>keyword1</th>\n",
       "      <th>keyword2</th>\n",
       "      <th>keyword3</th>\n",
       "      <th>keyword4</th>\n",
       "      <th>keyword5</th>\n",
       "    </tr>\n",
       "  </thead>\n",
       "  <tbody>\n",
       "    <tr>\n",
       "      <th>1026</th>\n",
       "      <td>범죄도시2</td>\n",
       "      <td>0.270066</td>\n",
       "      <td>베트남</td>\n",
       "      <td>악행</td>\n",
       "      <td>한국</td>\n",
       "      <td>범죄</td>\n",
       "      <td>무자비하다</td>\n",
       "    </tr>\n",
       "    <tr>\n",
       "      <th>832</th>\n",
       "      <td>범죄도시</td>\n",
       "      <td>0.179676</td>\n",
       "      <td>리더</td>\n",
       "      <td>대한민국</td>\n",
       "      <td>서울</td>\n",
       "      <td>장악</td>\n",
       "      <td>이끌다</td>\n",
       "    </tr>\n",
       "    <tr>\n",
       "      <th>16132</th>\n",
       "      <td>프론트</td>\n",
       "      <td>0.171054</td>\n",
       "      <td>살인</td>\n",
       "      <td>강간</td>\n",
       "      <td>형사</td>\n",
       "      <td>도둑</td>\n",
       "      <td>사건</td>\n",
       "    </tr>\n",
       "    <tr>\n",
       "      <th>2000</th>\n",
       "      <td>적인걸9 : 구유업화</td>\n",
       "      <td>0.166417</td>\n",
       "      <td>밝히다</td>\n",
       "      <td>사건</td>\n",
       "      <td>죽음</td>\n",
       "      <td>일말</td>\n",
       "      <td>화재</td>\n",
       "    </tr>\n",
       "    <tr>\n",
       "      <th>3014</th>\n",
       "      <td>쉐퍼드 - 보더 패트롤</td>\n",
       "      <td>0.152537</td>\n",
       "      <td>경찰관</td>\n",
       "      <td>경찰</td>\n",
       "      <td>잔인하다</td>\n",
       "      <td>마약</td>\n",
       "      <td>텍사스</td>\n",
       "    </tr>\n",
       "  </tbody>\n",
       "</table>\n",
       "</div>"
      ],
      "text/plain": [
       "              title     score keyword1 keyword2 keyword3 keyword4 keyword5\n",
       "1026          범죄도시2  0.270066      베트남       악행       한국       범죄    무자비하다\n",
       "832            범죄도시  0.179676       리더     대한민국       서울       장악      이끌다\n",
       "16132           프론트  0.171054       살인       강간       형사       도둑       사건\n",
       "2000    적인걸9 : 구유업화  0.166417      밝히다       사건       죽음       일말       화재\n",
       "3014   쉐퍼드 - 보더 패트롤  0.152537      경찰관       경찰     잔인하다       마약      텍사스"
      ]
     },
     "execution_count": 5,
     "metadata": {},
     "output_type": "execute_result"
    }
   ],
   "source": [
    "movie_REC(\"범죄도시3\")"
   ]
  },
  {
   "cell_type": "code",
   "execution_count": null,
   "metadata": {},
   "outputs": [],
   "source": []
  },
  {
   "cell_type": "code",
   "execution_count": null,
   "metadata": {},
   "outputs": [],
   "source": []
  },
  {
   "cell_type": "code",
   "execution_count": null,
   "metadata": {},
   "outputs": [],
   "source": []
  },
  {
   "cell_type": "code",
   "execution_count": null,
   "metadata": {},
   "outputs": [],
   "source": []
  }
 ],
 "metadata": {
  "kernelspec": {
   "display_name": "Python 3",
   "language": "python",
   "name": "python3"
  },
  "language_info": {
   "codemirror_mode": {
    "name": "ipython",
    "version": 3
   },
   "file_extension": ".py",
   "mimetype": "text/x-python",
   "name": "python",
   "nbconvert_exporter": "python",
   "pygments_lexer": "ipython3",
   "version": "3.11.3"
  },
  "orig_nbformat": 4
 },
 "nbformat": 4,
 "nbformat_minor": 2
}
